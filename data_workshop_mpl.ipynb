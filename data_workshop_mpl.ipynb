{
 "cells": [
  {
   "cell_type": "code",
   "execution_count": 23,
   "metadata": {},
   "outputs": [],
   "source": [
    "%matplotlib inline"
   ]
  },
  {
   "cell_type": "code",
   "execution_count": 24,
   "metadata": {},
   "outputs": [],
   "source": [
    "import pandas\n",
    "import numpy\n",
    "import matplotlib.pyplot as plt"
   ]
  },
  {
   "cell_type": "code",
   "execution_count": 25,
   "metadata": {},
   "outputs": [],
   "source": [
    "data = pandas.read_csv(\"data.csv\")"
   ]
  },
  {
   "cell_type": "code",
   "execution_count": 29,
   "metadata": {},
   "outputs": [
    {
     "name": "stdout",
     "output_type": "stream",
     "text": [
      "0    8\n",
      "1    7\n",
      "Name: What is the average number of hours you sleep each night?, dtype: int64\n"
     ]
    },
    {
     "data": {
      "text/plain": [
       "(array([1., 0., 0., 0., 0., 0., 0., 0., 0., 1.]),\n",
       " array([7. , 7.1, 7.2, 7.3, 7.4, 7.5, 7.6, 7.7, 7.8, 7.9, 8. ]),\n",
       " <BarContainer object of 10 artists>)"
      ]
     },
     "execution_count": 29,
     "metadata": {},
     "output_type": "execute_result"
    },
    {
     "data": {
      "image/png": "[encoded data removed]",
      "text/plain": [
       "<Figure size 640x480 with 1 Axes>"
      ]
     },
     "metadata": {},
     "output_type": "display_data"
    }
   ],
   "source": [
    "fig, ax = plt.subplots()\n",
    "sleeping_hours = data['What is the average number of hours you sleep each night?']\n",
    "print(sleeping_hours)\n",
    "ax.hist(sleeping_hours, bins=10)"
   ]
  },
  {
   "cell_type": "code",
   "execution_count": 35,
   "metadata": {},
   "outputs": [
    {
     "ename": "ValueError",
     "evalue": "Dimensions of labels and X must be compatible",
     "output_type": "error",
     "traceback": [
      "\u001b[1;31m---------------------------------------------------------------------------\u001b[0m",
      "\u001b[1;31mValueError\u001b[0m                                Traceback (most recent call last)",
      "Cell \u001b[1;32mIn [35], line 5\u001b[0m\n\u001b[0;32m      3\u001b[0m grad_education \u001b[39m=\u001b[39m grad_education\u001b[39m.\u001b[39mrename({\u001b[39m0\u001b[39m: \u001b[39m'\u001b[39m\u001b[39mNo\u001b[39m\u001b[39m'\u001b[39m, \u001b[39m1\u001b[39m: \u001b[39m'\u001b[39m\u001b[39mYes\u001b[39m\u001b[39m'\u001b[39m})\n\u001b[0;32m      4\u001b[0m credit_hours \u001b[39m=\u001b[39m data[\u001b[39m'\u001b[39m\u001b[39mHow many credit hours are you taking this semester?\u001b[39m\u001b[39m'\u001b[39m]\n\u001b[1;32m----> 5\u001b[0m ax\u001b[39m.\u001b[39;49mboxplot(grad_education, credit_hours, labels\u001b[39m=\u001b[39;49m[\u001b[39m'\u001b[39;49m\u001b[39mGraduate Education\u001b[39;49m\u001b[39m'\u001b[39;49m, \u001b[39m'\u001b[39;49m\u001b[39mCredit Hours\u001b[39;49m\u001b[39m'\u001b[39;49m])\n",
      "File \u001b[1;32mc:\\Users\\Ordin\\OneDrive\\Documents\\GithubProjects\\GDSCDataWorkshop\\data_workshop_venv\\lib\\site-packages\\matplotlib\\__init__.py:1423\u001b[0m, in \u001b[0;36m_preprocess_data.<locals>.inner\u001b[1;34m(ax, data, *args, **kwargs)\u001b[0m\n\u001b[0;32m   1420\u001b[0m \u001b[39m@functools\u001b[39m\u001b[39m.\u001b[39mwraps(func)\n\u001b[0;32m   1421\u001b[0m \u001b[39mdef\u001b[39;00m \u001b[39minner\u001b[39m(ax, \u001b[39m*\u001b[39margs, data\u001b[39m=\u001b[39m\u001b[39mNone\u001b[39;00m, \u001b[39m*\u001b[39m\u001b[39m*\u001b[39mkwargs):\n\u001b[0;32m   1422\u001b[0m     \u001b[39mif\u001b[39;00m data \u001b[39mis\u001b[39;00m \u001b[39mNone\u001b[39;00m:\n\u001b[1;32m-> 1423\u001b[0m         \u001b[39mreturn\u001b[39;00m func(ax, \u001b[39m*\u001b[39m\u001b[39mmap\u001b[39m(sanitize_sequence, args), \u001b[39m*\u001b[39m\u001b[39m*\u001b[39mkwargs)\n\u001b[0;32m   1425\u001b[0m     bound \u001b[39m=\u001b[39m new_sig\u001b[39m.\u001b[39mbind(ax, \u001b[39m*\u001b[39margs, \u001b[39m*\u001b[39m\u001b[39m*\u001b[39mkwargs)\n\u001b[0;32m   1426\u001b[0m     auto_label \u001b[39m=\u001b[39m (bound\u001b[39m.\u001b[39marguments\u001b[39m.\u001b[39mget(label_namer)\n\u001b[0;32m   1427\u001b[0m                   \u001b[39mor\u001b[39;00m bound\u001b[39m.\u001b[39mkwargs\u001b[39m.\u001b[39mget(label_namer))\n",
      "File \u001b[1;32mc:\\Users\\Ordin\\OneDrive\\Documents\\GithubProjects\\GDSCDataWorkshop\\data_workshop_venv\\lib\\site-packages\\matplotlib\\axes\\_axes.py:3850\u001b[0m, in \u001b[0;36mAxes.boxplot\u001b[1;34m(self, x, notch, sym, vert, whis, positions, widths, patch_artist, bootstrap, usermedians, conf_intervals, meanline, showmeans, showcaps, showbox, showfliers, boxprops, labels, flierprops, medianprops, meanprops, capprops, whiskerprops, manage_ticks, autorange, zorder, capwidths)\u001b[0m\n\u001b[0;32m   3847\u001b[0m \u001b[39mif\u001b[39;00m bootstrap \u001b[39mis\u001b[39;00m \u001b[39mNone\u001b[39;00m:\n\u001b[0;32m   3848\u001b[0m     bootstrap \u001b[39m=\u001b[39m mpl\u001b[39m.\u001b[39mrcParams[\u001b[39m'\u001b[39m\u001b[39mboxplot.bootstrap\u001b[39m\u001b[39m'\u001b[39m]\n\u001b[1;32m-> 3850\u001b[0m bxpstats \u001b[39m=\u001b[39m cbook\u001b[39m.\u001b[39;49mboxplot_stats(x, whis\u001b[39m=\u001b[39;49mwhis, bootstrap\u001b[39m=\u001b[39;49mbootstrap,\n\u001b[0;32m   3851\u001b[0m                                labels\u001b[39m=\u001b[39;49mlabels, autorange\u001b[39m=\u001b[39;49mautorange)\n\u001b[0;32m   3852\u001b[0m \u001b[39mif\u001b[39;00m notch \u001b[39mis\u001b[39;00m \u001b[39mNone\u001b[39;00m:\n\u001b[0;32m   3853\u001b[0m     notch \u001b[39m=\u001b[39m mpl\u001b[39m.\u001b[39mrcParams[\u001b[39m'\u001b[39m\u001b[39mboxplot.notch\u001b[39m\u001b[39m'\u001b[39m]\n",
      "File \u001b[1;32mc:\\Users\\Ordin\\OneDrive\\Documents\\GithubProjects\\GDSCDataWorkshop\\data_workshop_venv\\lib\\site-packages\\matplotlib\\cbook\\__init__.py:1232\u001b[0m, in \u001b[0;36mboxplot_stats\u001b[1;34m(X, whis, bootstrap, labels, autorange)\u001b[0m\n\u001b[0;32m   1230\u001b[0m     labels \u001b[39m=\u001b[39m itertools\u001b[39m.\u001b[39mrepeat(\u001b[39mNone\u001b[39;00m)\n\u001b[0;32m   1231\u001b[0m \u001b[39melif\u001b[39;00m \u001b[39mlen\u001b[39m(labels) \u001b[39m!=\u001b[39m ncols:\n\u001b[1;32m-> 1232\u001b[0m     \u001b[39mraise\u001b[39;00m \u001b[39mValueError\u001b[39;00m(\u001b[39m\"\u001b[39m\u001b[39mDimensions of labels and X must be compatible\u001b[39m\u001b[39m\"\u001b[39m)\n\u001b[0;32m   1234\u001b[0m input_whis \u001b[39m=\u001b[39m whis\n\u001b[0;32m   1235\u001b[0m \u001b[39mfor\u001b[39;00m ii, (x, label) \u001b[39min\u001b[39;00m \u001b[39menumerate\u001b[39m(\u001b[39mzip\u001b[39m(X, labels)):\n\u001b[0;32m   1236\u001b[0m \n\u001b[0;32m   1237\u001b[0m     \u001b[39m# empty dict\u001b[39;00m\n",
      "\u001b[1;31mValueError\u001b[0m: Dimensions of labels and X must be compatible"
     ]
    },
    {
     "data": {
      "image/png": "[encoded data removed]",
      "text/plain": [
       "<Figure size 640x480 with 1 Axes>"
      ]
     },
     "metadata": {},
     "output_type": "display_data"
    }
   ],
   "source": [
    "fig, ax = plt.subplots()\n",
    "grad_education = data['Do you think you will pursue graduate education?'].value_counts()\n",
    "grad_education = grad_education.rename({0: 'No', 1: 'Yes'})\n",
    "credit_hours = data['How many credit hours are you taking this semester?']\n",
    "ax.boxplot(grad_education, credit_hours, labels=['Graduate Education', 'Credit Hours'])"
   ]
  }
 ],
 "metadata": {
  "kernelspec": {
   "display_name": "Python 3.10.8 ('data_workshop_venv': venv)",
   "language": "python",
   "name": "python3"
  },
  "language_info": {
   "codemirror_mode": {
    "name": "ipython",
    "version": 3
   },
   "file_extension": ".py",
   "mimetype": "text/x-python",
   "name": "python",
   "nbconvert_exporter": "python",
   "pygments_lexer": "ipython3",
   "version": "3.10.8"
  },
  "orig_nbformat": 4,
  "vscode": {
   "interpreter": {
    "hash": "0a42990673cb67c3bec1fdf16c73b6b2ab052ca0dffc76f495476d7a4c5cd1d5"
   }
  }
 },
 "nbformat": 4,
 "nbformat_minor": 2
}
