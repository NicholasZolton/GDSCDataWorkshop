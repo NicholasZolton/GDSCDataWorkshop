{
 "cells": [
  {
   "cell_type": "code",
   "execution_count": null,
   "metadata": {},
   "outputs": [],
   "source": [
    "import numpy\n",
    "import pandas\n",
    "import seaborn\n",
    "from matplotlib import pyplot"
   ]
  },
  {
   "cell_type": "code",
   "execution_count": null,
   "metadata": {},
   "outputs": [],
   "source": [
    "data = pandas.read_csv('data.csv')\n",
    "data = data.loc[:, data.columns != 'Timestamp']\n",
    "data = data.loc[:, data.columns != 'What gender do you identify as?']\n",
    "GPA_dictionary = {'3.5 to 4': 3.8, '3 to 3.5': 3.3, '2.5 to 3': 2.8, '2 to 2.5': 2.3, '1.5 to 2': 1.8, '1 to 1.5': 1.3, '0.5 to 1': 0.8, '0 to 0.5': 0.3, 'I do not have a valid GPA yet.': 3.5}\n",
    "Year_dictionary = {'Freshman': 1, 'Sophomore': 2, 'Junior': 3, 'Senior': 4, 'Graduate Student': 5, 'Graduate': 5, 'Freshmen': 1, 'Sophmore': 2}\n",
    "YesNo_dictionary = {'Yes': 1, 'No': 0}\n",
    "data = data.replace({'What is your GPA?': GPA_dictionary, 'Do you have a job?': YesNo_dictionary, 'What year are you?': Year_dictionary})\n",
    "data = data.replace({'Are you in a relationship?': YesNo_dictionary})\n",
    "data = data.replace({'What year do you think has been the easiest for you coursework wise?': Year_dictionary, 'What year do you think has been the most difficult for you coursework wise?': Year_dictionary})\n",
    "data = data.replace({'Do you think you will pursue graduate education?': YesNo_dictionary})\n",
    "data = data.fillna(0)\n",
    "data"
   ]
  },
  {
   "cell_type": "code",
   "execution_count": null,
   "metadata": {},
   "outputs": [],
   "source": [
    "numeric_subdata = data[['Do you think you will pursue graduate education?', 'Are you in a relationship?', 'What year do you think has been the most difficult for you coursework wise?', 'What year do you think has been the easiest for you coursework wise?', 'Do you have a job?', 'What is your GPA?', 'How many credit hours are you taking this semester?', 'How many credit hours do you plan on taking next semester?', 'How many programming languages do you know?', 'What is the average number of hours you sleep each night?', 'How many hours per week do you tend to study?', 'How many clubs do you participate in?', 'How many GDSC events have you attended?']]\n",
    "GPA_dictionary = {'3.5 to 4': 3.8, '3 to 3.5': 3.3, '2.5 to 3': 2.8, '2 to 2.5': 2.3, '1.5 to 2': 1.8, '1 to 1.5': 1.3, '0.5 to 1': 0.8, '0 to 0.5': 0.3, 'I do not have a valid GPA yet.': 3.5}\n",
    "Year_dictionary = {'Freshman': 1, 'Sophomore': 2, 'Junior': 3, 'Senior': 4, 'Graduate Student': 5, 'Graduate': 5, 'Freshmen': 1, 'Sophmore': 2}\n",
    "YesNo_dictionary = {'Yes': 1, 'No': 0}\n",
    "numeric_subdata = numeric_subdata.replace({'What is your GPA?': GPA_dictionary, 'Do you have a job?': YesNo_dictionary, 'What year are you?': Year_dictionary})\n",
    "numeric_subdata = numeric_subdata.replace({'Are you in a relationship?': YesNo_dictionary})\n",
    "numeric_subdata = numeric_subdata.replace({'What year do you think has been the easiest for you coursework wise?': Year_dictionary, 'What year do you think has been the most difficult for you coursework wise?': Year_dictionary})\n",
    "numeric_subdata = numeric_subdata.replace({'Do you think you will pursue graduate education?': YesNo_dictionary})\n",
    "numeric_subdata"
   ]
  },
  {
   "cell_type": "code",
   "execution_count": null,
   "metadata": {},
   "outputs": [],
   "source": [
    "seaborn.clustermap(numeric_subdata.corr())"
   ]
  },
  {
   "cell_type": "code",
   "execution_count": null,
   "metadata": {},
   "outputs": [],
   "source": [
    "x = data['How many programming languages do you know?']\n",
    "y = data['How many GDSC events have you attended?']\n",
    "seaborn.scatterplot(x=x, y=y)"
   ]
  },
  {
   "cell_type": "code",
   "execution_count": null,
   "metadata": {},
   "outputs": [],
   "source": [
    "x = data['Are you in a relationship?']\n",
    "x.map({'Yes': 1, 'No': 0})\n",
    "y = data['How many credit hours are you taking this semester?']\n",
    "seaborn.boxplot(x=x, y=y)"
   ]
  },
  {
   "cell_type": "code",
   "execution_count": null,
   "metadata": {},
   "outputs": [],
   "source": [
    "x = data['What is your GPA?']\n",
    "seaborn.histplot(x=x, hue=data['Which type of professor is your favorite?'])"
   ]
  },
  {
   "cell_type": "code",
   "execution_count": null,
   "metadata": {},
   "outputs": [],
   "source": [
    "x = data['How many GDSC events have you attended?']\n",
    "y = data['How many programming languages do you know?']\n",
    "hue = data['How many hours per week do you tend to study?']\n",
    "seaborn.scatterplot(x=x, y=y, hue=hue)"
   ]
  },
  {
   "cell_type": "code",
   "execution_count": null,
   "metadata": {},
   "outputs": [],
   "source": [
    "x = data['How many hours per week do you tend to study?']\n",
    "y = numeric_subdata['What is your GPA?']\n",
    "hue = numeric_subdata['How many credit hours are you taking this semester?']\n",
    "seaborn.scatterplot(x=x, y=y, hue=hue)"
   ]
  },
  {
   "cell_type": "code",
   "execution_count": null,
   "metadata": {},
   "outputs": [],
   "source": [
    "x = numeric_subdata['What is the average number of hours you sleep each night?']\n",
    "y = numeric_subdata['What is your GPA?']\n",
    "hue = numeric_subdata['How many credit hours are you taking this semester?']\n",
    "seaborn.scatterplot(x=x, y=y, palette='ch:.25', hue=hue)"
   ]
  },
  {
   "cell_type": "code",
   "execution_count": null,
   "metadata": {},
   "outputs": [],
   "source": [
    "x = data['Which type of professor is your favorite?']\n",
    "x = x.replace({\"Easy, but you don't learn as much.\": 'Easy', 'Hard, but you learn a lot.': 'Hard', 0: 'No response.'})\n",
    "y = numeric_subdata['How many credit hours are you taking this semester?']\n",
    "seaborn.catplot(x=x, y=y)"
   ]
  }
 ],
 "metadata": {
  "kernelspec": {
   "display_name": "Python 3.10.8 ('data_workshop_venv': venv)",
   "language": "python",
   "name": "python3"
  },
  "language_info": {
   "codemirror_mode": {
    "name": "ipython",
    "version": 3
   },
   "file_extension": ".py",
   "mimetype": "text/x-python",
   "name": "python",
   "nbconvert_exporter": "python",
   "pygments_lexer": "ipython3",
   "version": "3.10.8"
  },
  "orig_nbformat": 4,
  "vscode": {
   "interpreter": {
    "hash": "0a42990673cb67c3bec1fdf16c73b6b2ab052ca0dffc76f495476d7a4c5cd1d5"
   }
  }
 },
 "nbformat": 4,
 "nbformat_minor": 2
}
